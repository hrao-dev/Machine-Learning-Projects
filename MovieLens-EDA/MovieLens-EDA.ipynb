{
 "cells": [
  {
   "cell_type": "markdown",
   "metadata": {},
   "source": [
    "### Project - MovieLens Data Analysis\n",
    "\n",
    "The GroupLens Research Project is a research group in the Department of Computer Science and Engineering at the University of Minnesota. The data is widely used for collaborative filtering and other filtering solutions. However, we will be using this data to act as a means to demonstrate our skill in using Python to “play” with data.\n",
    "\n",
    "### Datasets Information:\n",
    "\n",
    "- Data.csv: It contains information of ratings given by the users to a particular movie. Columns: user id, movie id, rating, timestamp\n",
    "\n",
    "- item.csv: File contains information related to the movies and its genre.\n",
    "\n",
    "- Columns: movie id, movie title, release date, unknown, Action, Adventure, Animation, Children’s, Comedy, Crime, Documentary, Drama, Fantasy, Film-Noir, Horror, Musical, Mystery, Romance, Sci-Fi, Thriller, War, Western\n",
    "\n",
    "- user.csv: It contains information of the users who have rated the movies. Columns: user id, age, gender, occupation, zip code\n",
    "\n",
    "### Objective:\n",
    "\n",
    "`To implement the techniques learnt as a part of the course.`\n",
    "\n",
    "### Learning Outcomes:\n",
    "- Exploratory Data Analysis\n",
    "\n",
    "- Visualization using Python\n",
    "\n",
    "- Pandas – groupby, merging \n",
    "\n",
    "\n",
    "#### Domain \n",
    "`Internet and Entertainment`\n",
    "\n",
    "**Note that the project will need you to apply the concepts of groupby and merging extensively.**"
   ]
  },
  {
   "cell_type": "markdown",
   "metadata": {},
   "source": [
    "#### 1. Import the necessary packages - 2.5 marks"
   ]
  },
  {
   "cell_type": "code",
   "execution_count": 1,
   "metadata": {},
   "outputs": [],
   "source": [
    "import pandas as pd\n",
    "import numpy as np\n",
    "import seaborn as sns\n",
    "import datetime\n",
    "import matplotlib.pyplot as plt"
   ]
  },
  {
   "cell_type": "markdown",
   "metadata": {},
   "source": [
    "#### 2. Read the 3 datasets into dataframes - 2.5 marks"
   ]
  },
  {
   "cell_type": "code",
   "execution_count": 2,
   "metadata": {
    "scrolled": true
   },
   "outputs": [
    {
     "name": "stdout",
     "output_type": "stream",
     "text": [
      "       user id  movie id  rating  timestamp\n",
      "0          196       242       3  881250949\n",
      "1          186       302       3  891717742\n",
      "2           22       377       1  878887116\n",
      "3          244        51       2  880606923\n",
      "4          166       346       1  886397596\n",
      "...        ...       ...     ...        ...\n",
      "99995      880       476       3  880175444\n",
      "99996      716       204       5  879795543\n",
      "99997      276      1090       1  874795795\n",
      "99998       13       225       2  882399156\n",
      "99999       12       203       3  879959583\n",
      "\n",
      "[100000 rows x 4 columns]\n"
     ]
    }
   ],
   "source": [
    "movie_ratings = pd.read_csv(\"Data.csv\")\n",
    "print(movie_ratings)"
   ]
  },
  {
   "cell_type": "code",
   "execution_count": 3,
   "metadata": {},
   "outputs": [
    {
     "name": "stdout",
     "output_type": "stream",
     "text": [
      "      movie id                          movie title release date  unknown  \\\n",
      "0            1                           Toy Story   01-Jan-1995        0   \n",
      "1            2                           GoldenEye   01-Jan-1995        0   \n",
      "2            3                          Four Rooms   01-Jan-1995        0   \n",
      "3            4                          Get Shorty   01-Jan-1995        0   \n",
      "4            5                             Copycat   01-Jan-1995        0   \n",
      "...        ...                                  ...          ...      ...   \n",
      "1676      1678                          Mat' i syn   06-Feb-1998        0   \n",
      "1677      1679                           B. Monkey   06-Feb-1998        0   \n",
      "1678      1680                       Sliding Doors   01-Jan-1998        0   \n",
      "1679      1681                        You So Crazy   01-Jan-1994        0   \n",
      "1680      1682  Scream of Stone (Schrei aus Stein)   08-Mar-1996        0   \n",
      "\n",
      "      Action  Adventure  Animation  Childrens  Comedy  Crime  ...  Fantasy  \\\n",
      "0          0          0          1          1       1      0  ...        0   \n",
      "1          1          1          0          0       0      0  ...        0   \n",
      "2          0          0          0          0       0      0  ...        0   \n",
      "3          1          0          0          0       1      0  ...        0   \n",
      "4          0          0          0          0       0      1  ...        0   \n",
      "...      ...        ...        ...        ...     ...    ...  ...      ...   \n",
      "1676       0          0          0          0       0      0  ...        0   \n",
      "1677       0          0          0          0       0      0  ...        0   \n",
      "1678       0          0          0          0       0      0  ...        0   \n",
      "1679       0          0          0          0       1      0  ...        0   \n",
      "1680       0          0          0          0       0      0  ...        0   \n",
      "\n",
      "      Film-Noir  Horror  Musical  Mystery  Romance  Sci-Fi  Thriller  War  \\\n",
      "0             0       0        0        0        0       0         0    0   \n",
      "1             0       0        0        0        0       0         1    0   \n",
      "2             0       0        0        0        0       0         1    0   \n",
      "3             0       0        0        0        0       0         0    0   \n",
      "4             0       0        0        0        0       0         1    0   \n",
      "...         ...     ...      ...      ...      ...     ...       ...  ...   \n",
      "1676          0       0        0        0        0       0         0    0   \n",
      "1677          0       0        0        0        1       0         1    0   \n",
      "1678          0       0        0        0        1       0         0    0   \n",
      "1679          0       0        0        0        0       0         0    0   \n",
      "1680          0       0        0        0        0       0         0    0   \n",
      "\n",
      "      Western  \n",
      "0           0  \n",
      "1           0  \n",
      "2           0  \n",
      "3           0  \n",
      "4           0  \n",
      "...       ...  \n",
      "1676        0  \n",
      "1677        0  \n",
      "1678        0  \n",
      "1679        0  \n",
      "1680        0  \n",
      "\n",
      "[1681 rows x 22 columns]\n"
     ]
    }
   ],
   "source": [
    "movie_genre = pd.read_csv(\"item.csv\")\n",
    "print(movie_genre)"
   ]
  },
  {
   "cell_type": "code",
   "execution_count": 4,
   "metadata": {},
   "outputs": [
    {
     "name": "stdout",
     "output_type": "stream",
     "text": [
      "     user id  age gender     occupation zip code\n",
      "0          1   24      M     technician    85711\n",
      "1          2   53      F          other    94043\n",
      "2          3   23      M         writer    32067\n",
      "3          4   24      M     technician    43537\n",
      "4          5   33      F          other    15213\n",
      "..       ...  ...    ...            ...      ...\n",
      "938      939   26      F        student    33319\n",
      "939      940   32      M  administrator    02215\n",
      "940      941   20      M        student    97229\n",
      "941      942   48      F      librarian    78209\n",
      "942      943   22      M        student    77841\n",
      "\n",
      "[943 rows x 5 columns]\n"
     ]
    }
   ],
   "source": [
    "movie_audience = pd.read_csv(\"user.csv\")\n",
    "print(movie_audience)"
   ]
  },
  {
   "cell_type": "markdown",
   "metadata": {},
   "source": [
    "#### 3. Apply info, shape, describe, and find the number of missing values in the data - 5 marks\n",
    " - Note that you will need to do it for all the three datasets seperately"
   ]
  },
  {
   "cell_type": "code",
   "execution_count": 5,
   "metadata": {},
   "outputs": [
    {
     "name": "stdout",
     "output_type": "stream",
     "text": [
      "<class 'pandas.core.frame.DataFrame'>\n",
      "RangeIndex: 100000 entries, 0 to 99999\n",
      "Data columns (total 4 columns):\n",
      " #   Column     Non-Null Count   Dtype\n",
      "---  ------     --------------   -----\n",
      " 0   user id    100000 non-null  int64\n",
      " 1   movie id   100000 non-null  int64\n",
      " 2   rating     100000 non-null  int64\n",
      " 3   timestamp  100000 non-null  int64\n",
      "dtypes: int64(4)\n",
      "memory usage: 3.1 MB\n"
     ]
    }
   ],
   "source": [
    "movie_ratings.info()"
   ]
  },
  {
   "cell_type": "code",
   "execution_count": 6,
   "metadata": {},
   "outputs": [
    {
     "data": {
      "text/plain": [
       "(100000, 4)"
      ]
     },
     "execution_count": 6,
     "metadata": {},
     "output_type": "execute_result"
    }
   ],
   "source": [
    "movie_ratings.shape"
   ]
  },
  {
   "cell_type": "code",
   "execution_count": 7,
   "metadata": {},
   "outputs": [
    {
     "data": {
      "text/html": [
       "<div>\n",
       "<style scoped>\n",
       "    .dataframe tbody tr th:only-of-type {\n",
       "        vertical-align: middle;\n",
       "    }\n",
       "\n",
       "    .dataframe tbody tr th {\n",
       "        vertical-align: top;\n",
       "    }\n",
       "\n",
       "    .dataframe thead th {\n",
       "        text-align: right;\n",
       "    }\n",
       "</style>\n",
       "<table border=\"1\" class=\"dataframe\">\n",
       "  <thead>\n",
       "    <tr style=\"text-align: right;\">\n",
       "      <th></th>\n",
       "      <th>user id</th>\n",
       "      <th>movie id</th>\n",
       "      <th>rating</th>\n",
       "      <th>timestamp</th>\n",
       "    </tr>\n",
       "  </thead>\n",
       "  <tbody>\n",
       "    <tr>\n",
       "      <th>count</th>\n",
       "      <td>100000.00000</td>\n",
       "      <td>100000.000000</td>\n",
       "      <td>100000.000000</td>\n",
       "      <td>1.000000e+05</td>\n",
       "    </tr>\n",
       "    <tr>\n",
       "      <th>mean</th>\n",
       "      <td>462.48475</td>\n",
       "      <td>425.530130</td>\n",
       "      <td>3.529860</td>\n",
       "      <td>8.835289e+08</td>\n",
       "    </tr>\n",
       "    <tr>\n",
       "      <th>std</th>\n",
       "      <td>266.61442</td>\n",
       "      <td>330.798356</td>\n",
       "      <td>1.125674</td>\n",
       "      <td>5.343856e+06</td>\n",
       "    </tr>\n",
       "    <tr>\n",
       "      <th>min</th>\n",
       "      <td>1.00000</td>\n",
       "      <td>1.000000</td>\n",
       "      <td>1.000000</td>\n",
       "      <td>8.747247e+08</td>\n",
       "    </tr>\n",
       "    <tr>\n",
       "      <th>25%</th>\n",
       "      <td>254.00000</td>\n",
       "      <td>175.000000</td>\n",
       "      <td>3.000000</td>\n",
       "      <td>8.794487e+08</td>\n",
       "    </tr>\n",
       "    <tr>\n",
       "      <th>50%</th>\n",
       "      <td>447.00000</td>\n",
       "      <td>322.000000</td>\n",
       "      <td>4.000000</td>\n",
       "      <td>8.828269e+08</td>\n",
       "    </tr>\n",
       "    <tr>\n",
       "      <th>75%</th>\n",
       "      <td>682.00000</td>\n",
       "      <td>631.000000</td>\n",
       "      <td>4.000000</td>\n",
       "      <td>8.882600e+08</td>\n",
       "    </tr>\n",
       "    <tr>\n",
       "      <th>max</th>\n",
       "      <td>943.00000</td>\n",
       "      <td>1682.000000</td>\n",
       "      <td>5.000000</td>\n",
       "      <td>8.932866e+08</td>\n",
       "    </tr>\n",
       "  </tbody>\n",
       "</table>\n",
       "</div>"
      ],
      "text/plain": [
       "            user id       movie id         rating     timestamp\n",
       "count  100000.00000  100000.000000  100000.000000  1.000000e+05\n",
       "mean      462.48475     425.530130       3.529860  8.835289e+08\n",
       "std       266.61442     330.798356       1.125674  5.343856e+06\n",
       "min         1.00000       1.000000       1.000000  8.747247e+08\n",
       "25%       254.00000     175.000000       3.000000  8.794487e+08\n",
       "50%       447.00000     322.000000       4.000000  8.828269e+08\n",
       "75%       682.00000     631.000000       4.000000  8.882600e+08\n",
       "max       943.00000    1682.000000       5.000000  8.932866e+08"
      ]
     },
     "execution_count": 7,
     "metadata": {},
     "output_type": "execute_result"
    }
   ],
   "source": [
    "movie_ratings.describe()"
   ]
  },
  {
   "cell_type": "code",
   "execution_count": 8,
   "metadata": {},
   "outputs": [
    {
     "data": {
      "text/plain": [
       "False"
      ]
     },
     "execution_count": 8,
     "metadata": {},
     "output_type": "execute_result"
    }
   ],
   "source": [
    "movie_ratings.isnull().values.any()"
   ]
  },
  {
   "cell_type": "code",
   "execution_count": 9,
   "metadata": {},
   "outputs": [
    {
     "name": "stdout",
     "output_type": "stream",
     "text": [
      "<class 'pandas.core.frame.DataFrame'>\n",
      "RangeIndex: 1681 entries, 0 to 1680\n",
      "Data columns (total 22 columns):\n",
      " #   Column        Non-Null Count  Dtype \n",
      "---  ------        --------------  ----- \n",
      " 0   movie id      1681 non-null   int64 \n",
      " 1   movie title   1681 non-null   object\n",
      " 2   release date  1681 non-null   object\n",
      " 3   unknown       1681 non-null   int64 \n",
      " 4   Action        1681 non-null   int64 \n",
      " 5   Adventure     1681 non-null   int64 \n",
      " 6   Animation     1681 non-null   int64 \n",
      " 7   Childrens     1681 non-null   int64 \n",
      " 8   Comedy        1681 non-null   int64 \n",
      " 9   Crime         1681 non-null   int64 \n",
      " 10  Documentary   1681 non-null   int64 \n",
      " 11  Drama         1681 non-null   int64 \n",
      " 12  Fantasy       1681 non-null   int64 \n",
      " 13  Film-Noir     1681 non-null   int64 \n",
      " 14  Horror        1681 non-null   int64 \n",
      " 15  Musical       1681 non-null   int64 \n",
      " 16  Mystery       1681 non-null   int64 \n",
      " 17  Romance       1681 non-null   int64 \n",
      " 18  Sci-Fi        1681 non-null   int64 \n",
      " 19  Thriller      1681 non-null   int64 \n",
      " 20  War           1681 non-null   int64 \n",
      " 21  Western       1681 non-null   int64 \n",
      "dtypes: int64(20), object(2)\n",
      "memory usage: 289.0+ KB\n"
     ]
    }
   ],
   "source": [
    "movie_genre.info()"
   ]
  },
  {
   "cell_type": "code",
   "execution_count": 10,
   "metadata": {},
   "outputs": [
    {
     "data": {
      "text/plain": [
       "(1681, 22)"
      ]
     },
     "execution_count": 10,
     "metadata": {},
     "output_type": "execute_result"
    }
   ],
   "source": [
    "movie_genre.shape"
   ]
  },
  {
   "cell_type": "code",
   "execution_count": 11,
   "metadata": {},
   "outputs": [
    {
     "data": {
      "text/html": [
       "<div>\n",
       "<style scoped>\n",
       "    .dataframe tbody tr th:only-of-type {\n",
       "        vertical-align: middle;\n",
       "    }\n",
       "\n",
       "    .dataframe tbody tr th {\n",
       "        vertical-align: top;\n",
       "    }\n",
       "\n",
       "    .dataframe thead th {\n",
       "        text-align: right;\n",
       "    }\n",
       "</style>\n",
       "<table border=\"1\" class=\"dataframe\">\n",
       "  <thead>\n",
       "    <tr style=\"text-align: right;\">\n",
       "      <th></th>\n",
       "      <th>movie id</th>\n",
       "      <th>unknown</th>\n",
       "      <th>Action</th>\n",
       "      <th>Adventure</th>\n",
       "      <th>Animation</th>\n",
       "      <th>Childrens</th>\n",
       "      <th>Comedy</th>\n",
       "      <th>Crime</th>\n",
       "      <th>Documentary</th>\n",
       "      <th>Drama</th>\n",
       "      <th>Fantasy</th>\n",
       "      <th>Film-Noir</th>\n",
       "      <th>Horror</th>\n",
       "      <th>Musical</th>\n",
       "      <th>Mystery</th>\n",
       "      <th>Romance</th>\n",
       "      <th>Sci-Fi</th>\n",
       "      <th>Thriller</th>\n",
       "      <th>War</th>\n",
       "      <th>Western</th>\n",
       "    </tr>\n",
       "  </thead>\n",
       "  <tbody>\n",
       "    <tr>\n",
       "      <th>count</th>\n",
       "      <td>1681.000000</td>\n",
       "      <td>1681.000000</td>\n",
       "      <td>1681.000000</td>\n",
       "      <td>1681.000000</td>\n",
       "      <td>1681.000000</td>\n",
       "      <td>1681.000000</td>\n",
       "      <td>1681.000000</td>\n",
       "      <td>1681.000000</td>\n",
       "      <td>1681.000000</td>\n",
       "      <td>1681.000000</td>\n",
       "      <td>1681.000000</td>\n",
       "      <td>1681.000000</td>\n",
       "      <td>1681.000000</td>\n",
       "      <td>1681.000000</td>\n",
       "      <td>1681.000000</td>\n",
       "      <td>1681.000000</td>\n",
       "      <td>1681.000000</td>\n",
       "      <td>1681.000000</td>\n",
       "      <td>1681.000000</td>\n",
       "      <td>1681.000000</td>\n",
       "    </tr>\n",
       "    <tr>\n",
       "      <th>mean</th>\n",
       "      <td>841.841761</td>\n",
       "      <td>0.000595</td>\n",
       "      <td>0.149316</td>\n",
       "      <td>0.080309</td>\n",
       "      <td>0.024985</td>\n",
       "      <td>0.072576</td>\n",
       "      <td>0.300416</td>\n",
       "      <td>0.064842</td>\n",
       "      <td>0.029744</td>\n",
       "      <td>0.431291</td>\n",
       "      <td>0.013087</td>\n",
       "      <td>0.014277</td>\n",
       "      <td>0.054729</td>\n",
       "      <td>0.033314</td>\n",
       "      <td>0.036288</td>\n",
       "      <td>0.146936</td>\n",
       "      <td>0.060083</td>\n",
       "      <td>0.149316</td>\n",
       "      <td>0.042237</td>\n",
       "      <td>0.016062</td>\n",
       "    </tr>\n",
       "    <tr>\n",
       "      <th>std</th>\n",
       "      <td>485.638077</td>\n",
       "      <td>0.024390</td>\n",
       "      <td>0.356506</td>\n",
       "      <td>0.271852</td>\n",
       "      <td>0.156126</td>\n",
       "      <td>0.259516</td>\n",
       "      <td>0.458576</td>\n",
       "      <td>0.246321</td>\n",
       "      <td>0.169931</td>\n",
       "      <td>0.495404</td>\n",
       "      <td>0.113683</td>\n",
       "      <td>0.118667</td>\n",
       "      <td>0.227519</td>\n",
       "      <td>0.179507</td>\n",
       "      <td>0.187061</td>\n",
       "      <td>0.354148</td>\n",
       "      <td>0.237712</td>\n",
       "      <td>0.356506</td>\n",
       "      <td>0.201189</td>\n",
       "      <td>0.125751</td>\n",
       "    </tr>\n",
       "    <tr>\n",
       "      <th>min</th>\n",
       "      <td>1.000000</td>\n",
       "      <td>0.000000</td>\n",
       "      <td>0.000000</td>\n",
       "      <td>0.000000</td>\n",
       "      <td>0.000000</td>\n",
       "      <td>0.000000</td>\n",
       "      <td>0.000000</td>\n",
       "      <td>0.000000</td>\n",
       "      <td>0.000000</td>\n",
       "      <td>0.000000</td>\n",
       "      <td>0.000000</td>\n",
       "      <td>0.000000</td>\n",
       "      <td>0.000000</td>\n",
       "      <td>0.000000</td>\n",
       "      <td>0.000000</td>\n",
       "      <td>0.000000</td>\n",
       "      <td>0.000000</td>\n",
       "      <td>0.000000</td>\n",
       "      <td>0.000000</td>\n",
       "      <td>0.000000</td>\n",
       "    </tr>\n",
       "    <tr>\n",
       "      <th>25%</th>\n",
       "      <td>422.000000</td>\n",
       "      <td>0.000000</td>\n",
       "      <td>0.000000</td>\n",
       "      <td>0.000000</td>\n",
       "      <td>0.000000</td>\n",
       "      <td>0.000000</td>\n",
       "      <td>0.000000</td>\n",
       "      <td>0.000000</td>\n",
       "      <td>0.000000</td>\n",
       "      <td>0.000000</td>\n",
       "      <td>0.000000</td>\n",
       "      <td>0.000000</td>\n",
       "      <td>0.000000</td>\n",
       "      <td>0.000000</td>\n",
       "      <td>0.000000</td>\n",
       "      <td>0.000000</td>\n",
       "      <td>0.000000</td>\n",
       "      <td>0.000000</td>\n",
       "      <td>0.000000</td>\n",
       "      <td>0.000000</td>\n",
       "    </tr>\n",
       "    <tr>\n",
       "      <th>50%</th>\n",
       "      <td>842.000000</td>\n",
       "      <td>0.000000</td>\n",
       "      <td>0.000000</td>\n",
       "      <td>0.000000</td>\n",
       "      <td>0.000000</td>\n",
       "      <td>0.000000</td>\n",
       "      <td>0.000000</td>\n",
       "      <td>0.000000</td>\n",
       "      <td>0.000000</td>\n",
       "      <td>0.000000</td>\n",
       "      <td>0.000000</td>\n",
       "      <td>0.000000</td>\n",
       "      <td>0.000000</td>\n",
       "      <td>0.000000</td>\n",
       "      <td>0.000000</td>\n",
       "      <td>0.000000</td>\n",
       "      <td>0.000000</td>\n",
       "      <td>0.000000</td>\n",
       "      <td>0.000000</td>\n",
       "      <td>0.000000</td>\n",
       "    </tr>\n",
       "    <tr>\n",
       "      <th>75%</th>\n",
       "      <td>1262.000000</td>\n",
       "      <td>0.000000</td>\n",
       "      <td>0.000000</td>\n",
       "      <td>0.000000</td>\n",
       "      <td>0.000000</td>\n",
       "      <td>0.000000</td>\n",
       "      <td>1.000000</td>\n",
       "      <td>0.000000</td>\n",
       "      <td>0.000000</td>\n",
       "      <td>1.000000</td>\n",
       "      <td>0.000000</td>\n",
       "      <td>0.000000</td>\n",
       "      <td>0.000000</td>\n",
       "      <td>0.000000</td>\n",
       "      <td>0.000000</td>\n",
       "      <td>0.000000</td>\n",
       "      <td>0.000000</td>\n",
       "      <td>0.000000</td>\n",
       "      <td>0.000000</td>\n",
       "      <td>0.000000</td>\n",
       "    </tr>\n",
       "    <tr>\n",
       "      <th>max</th>\n",
       "      <td>1682.000000</td>\n",
       "      <td>1.000000</td>\n",
       "      <td>1.000000</td>\n",
       "      <td>1.000000</td>\n",
       "      <td>1.000000</td>\n",
       "      <td>1.000000</td>\n",
       "      <td>1.000000</td>\n",
       "      <td>1.000000</td>\n",
       "      <td>1.000000</td>\n",
       "      <td>1.000000</td>\n",
       "      <td>1.000000</td>\n",
       "      <td>1.000000</td>\n",
       "      <td>1.000000</td>\n",
       "      <td>1.000000</td>\n",
       "      <td>1.000000</td>\n",
       "      <td>1.000000</td>\n",
       "      <td>1.000000</td>\n",
       "      <td>1.000000</td>\n",
       "      <td>1.000000</td>\n",
       "      <td>1.000000</td>\n",
       "    </tr>\n",
       "  </tbody>\n",
       "</table>\n",
       "</div>"
      ],
      "text/plain": [
       "          movie id      unknown       Action    Adventure    Animation  \\\n",
       "count  1681.000000  1681.000000  1681.000000  1681.000000  1681.000000   \n",
       "mean    841.841761     0.000595     0.149316     0.080309     0.024985   \n",
       "std     485.638077     0.024390     0.356506     0.271852     0.156126   \n",
       "min       1.000000     0.000000     0.000000     0.000000     0.000000   \n",
       "25%     422.000000     0.000000     0.000000     0.000000     0.000000   \n",
       "50%     842.000000     0.000000     0.000000     0.000000     0.000000   \n",
       "75%    1262.000000     0.000000     0.000000     0.000000     0.000000   \n",
       "max    1682.000000     1.000000     1.000000     1.000000     1.000000   \n",
       "\n",
       "         Childrens       Comedy        Crime  Documentary        Drama  \\\n",
       "count  1681.000000  1681.000000  1681.000000  1681.000000  1681.000000   \n",
       "mean      0.072576     0.300416     0.064842     0.029744     0.431291   \n",
       "std       0.259516     0.458576     0.246321     0.169931     0.495404   \n",
       "min       0.000000     0.000000     0.000000     0.000000     0.000000   \n",
       "25%       0.000000     0.000000     0.000000     0.000000     0.000000   \n",
       "50%       0.000000     0.000000     0.000000     0.000000     0.000000   \n",
       "75%       0.000000     1.000000     0.000000     0.000000     1.000000   \n",
       "max       1.000000     1.000000     1.000000     1.000000     1.000000   \n",
       "\n",
       "           Fantasy    Film-Noir       Horror      Musical      Mystery  \\\n",
       "count  1681.000000  1681.000000  1681.000000  1681.000000  1681.000000   \n",
       "mean      0.013087     0.014277     0.054729     0.033314     0.036288   \n",
       "std       0.113683     0.118667     0.227519     0.179507     0.187061   \n",
       "min       0.000000     0.000000     0.000000     0.000000     0.000000   \n",
       "25%       0.000000     0.000000     0.000000     0.000000     0.000000   \n",
       "50%       0.000000     0.000000     0.000000     0.000000     0.000000   \n",
       "75%       0.000000     0.000000     0.000000     0.000000     0.000000   \n",
       "max       1.000000     1.000000     1.000000     1.000000     1.000000   \n",
       "\n",
       "           Romance       Sci-Fi     Thriller          War      Western  \n",
       "count  1681.000000  1681.000000  1681.000000  1681.000000  1681.000000  \n",
       "mean      0.146936     0.060083     0.149316     0.042237     0.016062  \n",
       "std       0.354148     0.237712     0.356506     0.201189     0.125751  \n",
       "min       0.000000     0.000000     0.000000     0.000000     0.000000  \n",
       "25%       0.000000     0.000000     0.000000     0.000000     0.000000  \n",
       "50%       0.000000     0.000000     0.000000     0.000000     0.000000  \n",
       "75%       0.000000     0.000000     0.000000     0.000000     0.000000  \n",
       "max       1.000000     1.000000     1.000000     1.000000     1.000000  "
      ]
     },
     "execution_count": 11,
     "metadata": {},
     "output_type": "execute_result"
    }
   ],
   "source": [
    "movie_genre.describe()"
   ]
  },
  {
   "cell_type": "code",
   "execution_count": 12,
   "metadata": {},
   "outputs": [
    {
     "data": {
      "text/plain": [
       "False"
      ]
     },
     "execution_count": 12,
     "metadata": {},
     "output_type": "execute_result"
    }
   ],
   "source": [
    "movie_genre.isnull().values.any()"
   ]
  },
  {
   "cell_type": "code",
   "execution_count": 13,
   "metadata": {},
   "outputs": [
    {
     "name": "stdout",
     "output_type": "stream",
     "text": [
      "<class 'pandas.core.frame.DataFrame'>\n",
      "RangeIndex: 943 entries, 0 to 942\n",
      "Data columns (total 5 columns):\n",
      " #   Column      Non-Null Count  Dtype \n",
      "---  ------      --------------  ----- \n",
      " 0   user id     943 non-null    int64 \n",
      " 1   age         943 non-null    int64 \n",
      " 2   gender      943 non-null    object\n",
      " 3   occupation  943 non-null    object\n",
      " 4   zip code    943 non-null    object\n",
      "dtypes: int64(2), object(3)\n",
      "memory usage: 37.0+ KB\n"
     ]
    }
   ],
   "source": [
    "movie_audience.info()"
   ]
  },
  {
   "cell_type": "code",
   "execution_count": 14,
   "metadata": {},
   "outputs": [
    {
     "data": {
      "text/plain": [
       "(943, 5)"
      ]
     },
     "execution_count": 14,
     "metadata": {},
     "output_type": "execute_result"
    }
   ],
   "source": [
    "movie_audience.shape"
   ]
  },
  {
   "cell_type": "code",
   "execution_count": 15,
   "metadata": {},
   "outputs": [
    {
     "data": {
      "text/html": [
       "<div>\n",
       "<style scoped>\n",
       "    .dataframe tbody tr th:only-of-type {\n",
       "        vertical-align: middle;\n",
       "    }\n",
       "\n",
       "    .dataframe tbody tr th {\n",
       "        vertical-align: top;\n",
       "    }\n",
       "\n",
       "    .dataframe thead th {\n",
       "        text-align: right;\n",
       "    }\n",
       "</style>\n",
       "<table border=\"1\" class=\"dataframe\">\n",
       "  <thead>\n",
       "    <tr style=\"text-align: right;\">\n",
       "      <th></th>\n",
       "      <th>user id</th>\n",
       "      <th>age</th>\n",
       "    </tr>\n",
       "  </thead>\n",
       "  <tbody>\n",
       "    <tr>\n",
       "      <th>count</th>\n",
       "      <td>943.000000</td>\n",
       "      <td>943.000000</td>\n",
       "    </tr>\n",
       "    <tr>\n",
       "      <th>mean</th>\n",
       "      <td>472.000000</td>\n",
       "      <td>34.051962</td>\n",
       "    </tr>\n",
       "    <tr>\n",
       "      <th>std</th>\n",
       "      <td>272.364951</td>\n",
       "      <td>12.192740</td>\n",
       "    </tr>\n",
       "    <tr>\n",
       "      <th>min</th>\n",
       "      <td>1.000000</td>\n",
       "      <td>7.000000</td>\n",
       "    </tr>\n",
       "    <tr>\n",
       "      <th>25%</th>\n",
       "      <td>236.500000</td>\n",
       "      <td>25.000000</td>\n",
       "    </tr>\n",
       "    <tr>\n",
       "      <th>50%</th>\n",
       "      <td>472.000000</td>\n",
       "      <td>31.000000</td>\n",
       "    </tr>\n",
       "    <tr>\n",
       "      <th>75%</th>\n",
       "      <td>707.500000</td>\n",
       "      <td>43.000000</td>\n",
       "    </tr>\n",
       "    <tr>\n",
       "      <th>max</th>\n",
       "      <td>943.000000</td>\n",
       "      <td>73.000000</td>\n",
       "    </tr>\n",
       "  </tbody>\n",
       "</table>\n",
       "</div>"
      ],
      "text/plain": [
       "          user id         age\n",
       "count  943.000000  943.000000\n",
       "mean   472.000000   34.051962\n",
       "std    272.364951   12.192740\n",
       "min      1.000000    7.000000\n",
       "25%    236.500000   25.000000\n",
       "50%    472.000000   31.000000\n",
       "75%    707.500000   43.000000\n",
       "max    943.000000   73.000000"
      ]
     },
     "execution_count": 15,
     "metadata": {},
     "output_type": "execute_result"
    }
   ],
   "source": [
    "movie_audience.describe()"
   ]
  },
  {
   "cell_type": "code",
   "execution_count": 16,
   "metadata": {},
   "outputs": [
    {
     "data": {
      "text/plain": [
       "False"
      ]
     },
     "execution_count": 16,
     "metadata": {},
     "output_type": "execute_result"
    }
   ],
   "source": [
    "movie_audience.isnull().values.any()"
   ]
  },
  {
   "cell_type": "markdown",
   "metadata": {},
   "source": [
    "#### 4. Find the number of movies per genre using the item data - 2.5 marks"
   ]
  },
  {
   "cell_type": "code",
   "execution_count": 17,
   "metadata": {
    "scrolled": true
   },
   "outputs": [],
   "source": [
    "# use sum on the default axis\n",
    "#print(movie_genre)"
   ]
  },
  {
   "cell_type": "code",
   "execution_count": 18,
   "metadata": {},
   "outputs": [
    {
     "name": "stdout",
     "output_type": "stream",
     "text": [
      "['unknown', 'Action', 'Adventure', 'Animation', 'Childrens', 'Comedy', 'Crime', 'Documentary', 'Drama', 'Fantasy', 'Film-Noir', 'Horror', 'Musical', 'Mystery', 'Romance', 'Sci-Fi', 'Thriller', 'War', 'Western']\n"
     ]
    }
   ],
   "source": [
    "# Determine all the movie genres and extract them into a list\n",
    "genres = movie_genre.columns.values.tolist()\n",
    "#print(genres)\n",
    "del genres[:3]\n",
    "print(genres)"
   ]
  },
  {
   "cell_type": "code",
   "execution_count": 19,
   "metadata": {},
   "outputs": [
    {
     "name": "stdout",
     "output_type": "stream",
     "text": [
      "          Genre  Count\n",
      "0       unknown      1\n",
      "1        Action    251\n",
      "2     Adventure    135\n",
      "3     Animation     42\n",
      "4     Childrens    122\n",
      "5        Comedy    505\n",
      "6         Crime    109\n",
      "7   Documentary     50\n",
      "8         Drama    725\n",
      "9       Fantasy     22\n",
      "10    Film-Noir     24\n",
      "11       Horror     92\n",
      "12      Musical     56\n",
      "13      Mystery     61\n",
      "14      Romance    247\n",
      "15       Sci-Fi    101\n",
      "16     Thriller    251\n",
      "17          War     71\n",
      "18      Western     27\n"
     ]
    }
   ],
   "source": [
    "# Count the number of movies in each genre \n",
    "genre_counts = []\n",
    "for genre in genres: \n",
    "    count = movie_genre[genre].eq(1).sum()\n",
    "    #print(movie_genre[genre].value_counts())\n",
    "    #print(count)\n",
    "    genre_counts.append(count)\n",
    "    #print(\"Genre:\"+genre+\" Count:\"+str(count))\n",
    "\n",
    "genre_stats = pd.DataFrame(list(zip(genres, genre_counts)), \n",
    "               columns =['Genre', 'Count']) \n",
    "print(genre_stats)"
   ]
  },
  {
   "cell_type": "markdown",
   "metadata": {},
   "source": [
    "#### 5. Find the movies that have more than one genre - 5 marks"
   ]
  },
  {
   "cell_type": "code",
   "execution_count": 20,
   "metadata": {},
   "outputs": [
    {
     "name": "stdout",
     "output_type": "stream",
     "text": [
      "                  Title  Genres\n",
      "0            Toy Story        3\n",
      "1            GoldenEye        3\n",
      "2           Get Shorty        3\n",
      "3              Copycat        3\n",
      "4       Twelve Monkeys        2\n",
      "..                  ...     ...\n",
      "844  MURDER and murder        3\n",
      "845            Tainted        2\n",
      "846             Mirage        2\n",
      "847          B. Monkey        2\n",
      "848      Sliding Doors        2\n",
      "\n",
      "[849 rows x 2 columns]\n"
     ]
    }
   ],
   "source": [
    "#hint: use sum on the axis = 1\n",
    "titles = []\n",
    "genre_cts = []\n",
    "row_total = movie_genre[genres].sum(axis=1)\n",
    "#print(row_total)\n",
    "#print(len(row_total))\n",
    "for r in range(len(row_total)):\n",
    "    #print(\"Genre Count for Row\"+str(r)+\":\"+str(row_total[r]))\n",
    "    if (row_total[r] > 1):\n",
    "        #print(\"Movie Title: \"+movie_genre.iloc[r,1])\n",
    "        titles.append(movie_genre.iloc[r,1])\n",
    "        #print(\"Genre Count:\"+str(row_total[r]))\n",
    "        genre_cts.append(row_total[r])\n",
    "\n",
    "multi_genre_stats = pd.DataFrame(list(zip(titles, genre_cts)), \n",
    "               columns =['Title', 'Genres']) \n",
    "print(multi_genre_stats)"
   ]
  },
  {
   "cell_type": "markdown",
   "metadata": {},
   "source": [
    "#### 6. Drop the movie where the genre is unknown - 2.5 marks"
   ]
  },
  {
   "cell_type": "code",
   "execution_count": 21,
   "metadata": {},
   "outputs": [
    {
     "name": "stdout",
     "output_type": "stream",
     "text": [
      "(1680, 22)\n"
     ]
    }
   ],
   "source": [
    "movie_genre.drop(movie_genre[movie_genre['unknown'] == 1].index, inplace = True)\n",
    "print(movie_genre.shape)\n",
    "#print(movie_genre)"
   ]
  },
  {
   "cell_type": "markdown",
   "metadata": {},
   "source": [
    "### 7. Univariate plots of columns: 'rating', 'Age', 'release year', 'Gender' and 'Occupation' - 10 marks"
   ]
  },
  {
   "cell_type": "code",
   "execution_count": 22,
   "metadata": {},
   "outputs": [
    {
     "data": {
      "image/png": "[encoded data removed]",
      "text/plain": [
       "<Figure size 432x288 with 1 Axes>"
      ]
     },
     "metadata": {
      "needs_background": "light"
     },
     "output_type": "display_data"
    }
   ],
   "source": [
    "# HINT: use distplot for age and countplot for gender,ratings,occupation, release year.\n",
    "# HINT: Please refer to the below snippet to understand how to get to release year from release date. You can use str.split()\n",
    "# as depicted below.\n",
    "#print(movie_audience)\n",
    "sns.distplot(movie_audience['age']);"
   ]
  },
  {
   "cell_type": "code",
   "execution_count": 23,
   "metadata": {},
   "outputs": [
    {
     "data": {
      "image/png": "[encoded data removed]",
      "text/plain": [
       "<Figure size 432x288 with 1 Axes>"
      ]
     },
     "metadata": {
      "needs_background": "light"
     },
     "output_type": "display_data"
    }
   ],
   "source": [
    "sns.countplot(x=movie_audience['gender']);"
   ]
  },
  {
   "cell_type": "code",
   "execution_count": 24,
   "metadata": {},
   "outputs": [
    {
     "data": {
      "image/png": "[encoded data removed]",
      "text/plain": [
       "<Figure size 864x576 with 1 Axes>"
      ]
     },
     "metadata": {
      "needs_background": "light"
     },
     "output_type": "display_data"
    }
   ],
   "source": [
    "plt.figure(figsize=(12,8))\n",
    "oc_plot = sns.countplot(x=movie_audience['occupation']);\n",
    "oc_plot.set_xticklabels(oc_plot.get_xticklabels(), rotation=50);"
   ]
  },
  {
   "cell_type": "code",
   "execution_count": 25,
   "metadata": {},
   "outputs": [
    {
     "name": "stdout",
     "output_type": "stream",
     "text": [
      "       user id  movie id  rating  timestamp\n",
      "0          196       242       3  881250949\n",
      "1          186       302       3  891717742\n",
      "2           22       377       1  878887116\n",
      "3          244        51       2  880606923\n",
      "4          166       346       1  886397596\n",
      "...        ...       ...     ...        ...\n",
      "99995      880       476       3  880175444\n",
      "99996      716       204       5  879795543\n",
      "99997      276      1090       1  874795795\n",
      "99998       13       225       2  882399156\n",
      "99999       12       203       3  879959583\n",
      "\n",
      "[100000 rows x 4 columns]\n"
     ]
    },
    {
     "data": {
      "image/png": "[encoded data removed]",
      "text/plain": [
       "<Figure size 432x288 with 1 Axes>"
      ]
     },
     "metadata": {
      "needs_background": "light"
     },
     "output_type": "display_data"
    }
   ],
   "source": [
    "print(movie_ratings)\n",
    "sns.countplot(x=movie_ratings['rating']);"
   ]
  },
  {
   "cell_type": "code",
   "execution_count": 26,
   "metadata": {},
   "outputs": [
    {
     "data": {
      "image/png": "[encoded data removed]",
      "text/plain": [
       "<Figure size 1440x1296 with 1 Axes>"
      ]
     },
     "metadata": {
      "needs_background": "light"
     },
     "output_type": "display_data"
    }
   ],
   "source": [
    "rel_year = []\n",
    "#print(movie_genre)\n",
    "for date in movie_genre['release date']:\n",
    "    rel_date = datetime.datetime.strptime(date, \"%d-%b-%Y\")\n",
    "    rel_year.append(rel_date.year)\n",
    "#print(rel_year)\n",
    "\n",
    "# Adding the year extracted from release date as a new column to the dataframe\n",
    "movie_genre['release year'] = rel_year\n",
    "\n",
    "plt.figure(figsize=(20,18))\n",
    "year_plot = sns.countplot(x=rel_year);\n",
    "year_plot.set(xlabel=\"year\");\n",
    "year_plot.set_xticklabels(year_plot.get_xticklabels(), rotation=50);"
   ]
  },
  {
   "cell_type": "markdown",
   "metadata": {},
   "source": [
    "### 8. Visualize how popularity of genres has changed over the years - 10 marks\n",
    "\n",
    "Note that you need to use the number of releases in a year as a parameter of popularity of a genre"
   ]
  },
  {
   "cell_type": "markdown",
   "metadata": {},
   "source": [
    "Hint \n",
    "\n",
    "1: you need to reach to a data frame where the release year is the index and the genre is the column names (one cell shows the number of release in a year in one genre) or vice versa.\n",
    "Once that is achieved, you can either use multiple bivariate plots or can use the heatmap to visualise all the changes over the years in one go. \n",
    "\n",
    "Hint 2: Use groupby on the relevant column and use sum() on the same to find out the nuumber of releases in a year/genre.  "
   ]
  },
  {
   "cell_type": "code",
   "execution_count": 27,
   "metadata": {},
   "outputs": [
    {
     "name": "stdout",
     "output_type": "stream",
     "text": [
      "['Action', 'Adventure', 'Animation', 'Childrens', 'Comedy', 'Crime', 'Documentary', 'Drama', 'Fantasy', 'Film-Noir', 'Horror', 'Musical', 'Mystery', 'Romance', 'Sci-Fi', 'Thriller', 'War', 'Western']\n",
      "              Action  Adventure  Animation  Childrens  Comedy  Crime  \\\n",
      "release year                                                           \n",
      "1922               0          0          0          0       0      0   \n",
      "1926               0          0          0          0       0      0   \n",
      "1930               0          0          0          0       0      0   \n",
      "1931               0          0          0          0       0      1   \n",
      "1932               0          0          0          0       0      0   \n",
      "...              ...        ...        ...        ...     ...    ...   \n",
      "1994              30         13          4         15      82      8   \n",
      "1995              40         22          6         21      63     11   \n",
      "1996              44         24          9         21     108     21   \n",
      "1997              46         20          3         22      87     30   \n",
      "1998              12          3          0          1      13      7   \n",
      "\n",
      "              Documentary  Drama  Fantasy  Film-Noir  Horror  Musical  \\\n",
      "release year                                                            \n",
      "1922                    0      0        0          0       1        0   \n",
      "1926                    0      1        0          0       0        0   \n",
      "1930                    0      1        0          0       0        0   \n",
      "1931                    0      0        0          1       0        0   \n",
      "1932                    0      0        0          0       0        0   \n",
      "...                   ...    ...      ...        ...     ...      ...   \n",
      "1994                    9     97        3          0       8        2   \n",
      "1995                    5     89        3          1      14        3   \n",
      "1996                   18    170        6          1      11        9   \n",
      "1997                    6    113        4          2       8        5   \n",
      "1998                    3     33        1          2       4        1   \n",
      "\n",
      "              Mystery  Romance  Sci-Fi  Thriller  War  Western  \n",
      "release year                                                    \n",
      "1922                0        0       0         0    0        0  \n",
      "1926                0        0       0         0    0        0  \n",
      "1930                0        0       0         0    0        0  \n",
      "1931                0        0       0         1    0        0  \n",
      "1932                0        1       0         0    1        0  \n",
      "...               ...      ...     ...       ...  ...      ...  \n",
      "1994                2       35       7        25    7        6  \n",
      "1995                5       37      15        39    5        2  \n",
      "1996                6       38      15        47    9        2  \n",
      "1997               18       51      13        54   14        0  \n",
      "1998                3       11       5        18    0        0  \n",
      "\n",
      "[71 rows x 18 columns]\n"
     ]
    },
    {
     "data": {
      "image/png": "[encoded data removed]",
      "text/plain": [
       "<Figure size 1296x1152 with 2 Axes>"
      ]
     },
     "metadata": {
      "needs_background": "light"
     },
     "output_type": "display_data"
    }
   ],
   "source": [
    "#print(movie_genre)\n",
    "genre_year_df = pd.DataFrame()\n",
    "\n",
    "# Removing the genre \"unknown\" from the list of genres of movies\n",
    "del genres[:1]\n",
    "print(genres)\n",
    "\n",
    "# Groupby the movie release year and genre, do a sum() to find out the nuumber of releases in a year/genre.\n",
    "for genre in genres: \n",
    "    movie_genre_year = movie_genre.groupby('release year')[[genre]].sum()\n",
    "    #print(movie_genre_year)\n",
    "    genre_year_df = pd.concat([genre_year_df,movie_genre_year],axis=1, ignore_index=True)\n",
    "    #genre_year_df = genre_year_df.append(movie_genre_year)\n",
    "genre_year_df.columns = genres\n",
    "print(genre_year_df)\n",
    "fig, ax = plt.subplots(figsize=(18,16))\n",
    "\n",
    "# HeatMap\n",
    "heat_map = sns.heatmap(genre_year_df);\n",
    "heat_map.set(xlabel=\"genre\");\n",
    "heat_map.set_xticklabels(heat_map.get_xticklabels(), rotation=45);"
   ]
  },
  {
   "cell_type": "markdown",
   "metadata": {},
   "source": [
    "### 9. Find the top 25 movies according to average ratings such that each movie has number of ratings more than 100 - 10 marks\n",
    "\n",
    "Hint : \n",
    "\n",
    "1. First find the movies that have more than 100 ratings(use merge, groupby and count). Extract the movie id in a list.\n",
    "2. Find the average rating of all the movies and sort them in the descending order. You will have to use the .merge() function to reach to a data set through which you can get the ids and the average rating.\n",
    "3. Use isin(list obtained from 1) to filter out the movies which have more than 100 ratings.\n",
    "\n",
    "Note: This question will need you to research about groupby and apply your findings. You can find more on groupby on https://realpython.com/pandas-groupby/."
   ]
  },
  {
   "cell_type": "code",
   "execution_count": 28,
   "metadata": {},
   "outputs": [
    {
     "name": "stdout",
     "output_type": "stream",
     "text": [
      "(99990, 26)\n",
      "    movie id                                        movie title release date  \\\n",
      "0        408                                    Close Shave, A   28-Apr-1996   \n",
      "1        318                                  Schindler's List   01-Jan-1993   \n",
      "2        169                               Wrong Trousers, The   01-Jan-1993   \n",
      "3        483                                        Casablanca   01-Jan-1942   \n",
      "4         64                         Shawshank Redemption, The   01-Jan-1994   \n",
      "5        603                                       Rear Window   01-Jan-1954   \n",
      "6         12                               Usual Suspects, The   14-Aug-1995   \n",
      "7         50                                         Star Wars   01-Jan-1977   \n",
      "8        178                                      12 Angry Men   01-Jan-1957   \n",
      "9        134                                      Citizen Kane   01-Jan-1941   \n",
      "10       427                             To Kill a Mockingbird   01-Jan-1962   \n",
      "11       357                   One Flew Over the Cuckoo's Nest   01-Jan-1975   \n",
      "12        98                         Silence of the Lambs, The   01-Jan-1991   \n",
      "13       480                                North by Northwest   01-Jan-1959   \n",
      "14       127                                    Godfather, The   01-Jan-1972   \n",
      "15       285                                    Secrets & Lies   04-Oct-1996   \n",
      "16       272                                 Good Will Hunting   01-Jan-1997   \n",
      "17       657                         Manchurian Candidate, The   01-Jan-1962   \n",
      "18       474  Dr. Strangelove or: How I Learned to Stop Worr...  01-Jan-1963   \n",
      "19       174                           Raiders of the Lost Ark   01-Jan-1981   \n",
      "20       479                                           Vertigo   01-Jan-1958   \n",
      "21       313                                           Titanic   01-Jan-1997   \n",
      "22       511                                Lawrence of Arabia   01-Jan-1962   \n",
      "23       484                               Maltese Falcon, The   01-Jan-1941   \n",
      "24       172                          Empire Strikes Back, The   01-Jan-1980   \n",
      "\n",
      "    average_rating  ratings_count  \n",
      "0         4.491071            112  \n",
      "1         4.466443            298  \n",
      "2         4.466102            118  \n",
      "3         4.456790            243  \n",
      "4         4.445230            283  \n",
      "5         4.387560            209  \n",
      "6         4.385768            267  \n",
      "7         4.358491            583  \n",
      "8         4.344000            125  \n",
      "9         4.292929            198  \n",
      "10        4.292237            219  \n",
      "11        4.291667            264  \n",
      "12        4.289744            390  \n",
      "13        4.284916            179  \n",
      "14        4.283293            413  \n",
      "15        4.265432            162  \n",
      "16        4.262626            198  \n",
      "17        4.259542            131  \n",
      "18        4.252577            194  \n",
      "19        4.252381            420  \n",
      "20        4.251397            179  \n",
      "21        4.245714            350  \n",
      "22        4.231214            173  \n",
      "23        4.210145            138  \n",
      "24        4.204360            367  \n"
     ]
    },
    {
     "name": "stderr",
     "output_type": "stream",
     "text": [
      "/Users/harinirao/opt/anaconda3/envs/PythonData/lib/python3.6/site-packages/ipykernel_launcher.py:46: SettingWithCopyWarning: \n",
      "A value is trying to be set on a copy of a slice from a DataFrame.\n",
      "Try using .loc[row_indexer,col_indexer] = value instead\n",
      "\n",
      "See the caveats in the documentation: https://pandas.pydata.org/pandas-docs/stable/user_guide/indexing.html#returning-a-view-versus-a-copy\n",
      "/Users/harinirao/opt/anaconda3/envs/PythonData/lib/python3.6/site-packages/ipykernel_launcher.py:47: SettingWithCopyWarning: \n",
      "A value is trying to be set on a copy of a slice from a DataFrame.\n",
      "Try using .loc[row_indexer,col_indexer] = value instead\n",
      "\n",
      "See the caveats in the documentation: https://pandas.pydata.org/pandas-docs/stable/user_guide/indexing.html#returning-a-view-versus-a-copy\n"
     ]
    }
   ],
   "source": [
    "movie_id_list = []\n",
    "#print(movie_ratings.shape)\n",
    "#print(movie_genre.shape)\n",
    "\n",
    "#Combine the two dataframes, the dataframe with movie ratings and the one with movie genres with an inner join \n",
    "movie_merged = pd.merge(movie_ratings, movie_genre, on='movie id', how='inner')\n",
    "print(movie_merged.shape)\n",
    "#print(movie_merged)\n",
    "\n",
    "# Count the number of ratings per each movie and generate a new dataframe (from the above combined dataframe) \n",
    "ratings_count_df = movie_merged.groupby('movie id')['rating'].count().reset_index(name='ratings_count')\n",
    "#print(ratings_count_df)\n",
    "\n",
    "# Extract the movie ids of movies that have more than 100 ratings in a list\n",
    "#movie_id_list = ratings_count_df[ratings_count_df['ratings_count']>100]['movie id'].values\n",
    "movie_id_list = ratings_count_df[ratings_count_df['ratings_count']>100]\n",
    "#print(movie_id_list)\n",
    "\n",
    "# Find the average rating of all the movies\n",
    "average_ratings_df = movie_merged.groupby('movie id')['rating'].mean().reset_index(name='average_rating')\n",
    "#print(average_ratings_df)\n",
    "\n",
    "# Sort them in the descending order\n",
    "average_ratings_df.sort_values(by=['average_rating'], inplace=True, ascending=False)\n",
    "#print(average_ratings_df)\n",
    "movies_100_ratings = pd.merge(average_ratings_df, movie_id_list, on='movie id', how='inner')\n",
    "#print(movies_100_ratings)\n",
    "\n",
    "# Determine the top 25 movies\n",
    "top25_movies_100_ratings = movies_100_ratings.loc[movies_100_ratings.index < 25]\n",
    "#print(top25_movies_100_ratings)\n",
    "\n",
    "# Using the movie ids of the top 25 movies extract the movie title and release date from the earlier merged dataframe and display them all together\n",
    "movie_titles = []\n",
    "release_dates = []\n",
    "for id in top25_movies_100_ratings['movie id']: \n",
    "    row = movie_merged.loc[movie_merged['movie id'] == id, [\"movie title\", \"release date\"]]\n",
    "    #print(row)\n",
    "    title = str(row['movie title'].unique()).replace(\"['\", \"\").replace('[\"', '').replace(\"']\", \"\").replace('\"]', '')\n",
    "    date = str(row['release date'].unique()).replace(\"['\", \"\").replace(\"']\", \"\")\n",
    "    #print(title)\n",
    "    #print(date)\n",
    "    movie_titles.append(title)\n",
    "    release_dates.append(date)\n",
    "\n",
    "top25_movies_100_ratings['movie title'] = movie_titles\n",
    "top25_movies_100_ratings['release date'] = release_dates\n",
    "top25_movies_100_ratings = top25_movies_100_ratings[['movie id', 'movie title', 'release date', 'average_rating', 'ratings_count']]\n",
    "print(top25_movies_100_ratings)"
   ]
  },
  {
   "cell_type": "markdown",
   "metadata": {},
   "source": [
    "### 10. See gender distribution across different genres check for the validity of the below statements - 10 marks\n",
    "\n",
    "* Men watch more drama than women\n",
    "* Women watch more Sci-Fi than men\n",
    "* Men watch more Romance than women\n"
   ]
  },
  {
   "cell_type": "markdown",
   "metadata": {},
   "source": [
    "1. There is no need to conduct statistical tests around this. Just compare the percentages and comment on the validity of the above statements.\n",
    "\n",
    "2. you might want ot use the .sum(), .div() function here.\n",
    "3. Use number of ratings to validate the numbers. For example, if out of 4000 ratings received by women, 3000 are for drama, we will assume that 75% of the women watch drama."
   ]
  },
  {
   "cell_type": "code",
   "execution_count": 29,
   "metadata": {},
   "outputs": [],
   "source": [
    "#print(movie_genre)\n",
    "#print(movie_audience)\n",
    "#print(movie_ratings)"
   ]
  },
  {
   "cell_type": "code",
   "execution_count": 30,
   "metadata": {},
   "outputs": [
    {
     "name": "stdout",
     "output_type": "stream",
     "text": [
      "(99990, 30)\n"
     ]
    }
   ],
   "source": [
    "# Combine all the three movie dataframes \n",
    "movie_combined = pd.merge(movie_genre, movie_ratings, on='movie id', how='inner')\n",
    "movie_combined = pd.merge(movie_combined, movie_audience, on='user id', how='inner')\n",
    "print(movie_combined.shape)\n",
    "#print(movie_combined)"
   ]
  },
  {
   "cell_type": "code",
   "execution_count": 31,
   "metadata": {},
   "outputs": [
    {
     "name": "stdout",
     "output_type": "stream",
     "text": [
      "  gender  ratings_count\n",
      "0      F          25738\n",
      "1      M          74252\n"
     ]
    }
   ],
   "source": [
    "# Group by gender and rating to determinge the distribution of movie ratings by gender\n",
    "gender_ratings_df = movie_combined.groupby('gender')['rating'].count().reset_index(name='ratings_count')\n",
    "print(gender_ratings_df)\n",
    "\n",
    "# Generate two seperate dataframes from the above dataframe, one for male and the other for female\n",
    "male_ratings_df = movie_combined.loc[movie_combined['gender'] == 'M']\n",
    "#print(male_ratings_df)\n",
    "female_ratings_df = movie_combined.loc[movie_combined['gender'] == 'F']\n",
    "#print(female_ratings_df)"
   ]
  },
  {
   "cell_type": "code",
   "execution_count": 32,
   "metadata": {},
   "outputs": [],
   "source": [
    "# Determine the number of movie ratings and calculate the percentages of ratings, per movie genre for male gender\n",
    "genre_counts_male = []\n",
    "count = 0\n",
    "for genre in genres: \n",
    "        count = male_ratings_df[genre].eq(1).sum()\n",
    "        #print(male_ratings_df[genre].value_counts())\n",
    "        #print(count)\n",
    "        ratings_percent = (count/len(male_ratings_df)) * 100\n",
    "        #print(ratings_percent)\n",
    "        genre_counts_male.append(ratings_percent)\n",
    "        #print(\"Genre:\"+genre+\" ratings:\"+str(ratings_percent))"
   ]
  },
  {
   "cell_type": "code",
   "execution_count": 33,
   "metadata": {},
   "outputs": [],
   "source": [
    "# Determine the number of movie ratings and calculate the percentages of ratings, per movie genre for female gender\n",
    "genre_counts_female = []\n",
    "count = 0\n",
    "for genre in genres: \n",
    "        count = female_ratings_df[genre].eq(1).sum()\n",
    "        #print(female_ratings_df[genre].value_counts())\n",
    "        #print(count)\n",
    "        ratings_percent = (count/len(female_ratings_df)) * 100\n",
    "        #print(ratings_percent)\n",
    "        genre_counts_female.append(ratings_percent)\n",
    "        #print(\"Genre:\"+genre+\" Count:\"+str(ratings_percent))"
   ]
  },
  {
   "cell_type": "code",
   "execution_count": 34,
   "metadata": {},
   "outputs": [
    {
     "name": "stdout",
     "output_type": "stream",
     "text": [
      "          Genre  Male_Ratings(%)  Female_Ratings(%)\n",
      "0        Action        27.133276          21.143834\n",
      "1     Adventure        14.291871          12.203745\n",
      "2     Animation         3.515057           3.865879\n",
      "3     Childrens         6.666487           8.672002\n",
      "4        Comedy        29.310995          31.346647\n",
      "5         Crime         8.432096           6.970239\n",
      "6   Documentary         0.769003           0.726552\n",
      "7         Drama        38.904003          42.769446\n",
      "8       Fantasy         1.331951           1.410366\n",
      "9     Film-Noir         1.815439           1.495843\n",
      "10       Horror         5.548672           4.650711\n",
      "11      Musical         4.729839           5.602611\n",
      "12      Mystery         5.294133           5.105292\n",
      "13      Romance        18.320045          22.760121\n",
      "14       Sci-Fi        13.603674          10.214469\n",
      "15     Thriller        22.606798          19.760665\n",
      "16          War         9.708829           8.504934\n",
      "17      Western         1.997253           1.441448\n"
     ]
    }
   ],
   "source": [
    "# Combine the percentages of movie ratings per genre for both the genders\n",
    "genre_combined_stats = pd.DataFrame(list(zip(genres, genre_counts_male,genre_counts_female)), \n",
    "               columns =['Genre', 'Male_Ratings(%)', 'Female_Ratings(%)']) \n",
    "print(genre_combined_stats)"
   ]
  },
  {
   "cell_type": "code",
   "execution_count": 35,
   "metadata": {},
   "outputs": [
    {
     "name": "stdout",
     "output_type": "stream",
     "text": [
      "Rating distribution for Genre                  Drama\n",
      "Male_Ratings(%)       38.904\n",
      "Female_Ratings(%)    42.7694\n",
      "Name: 7, dtype: object\n",
      "Rating distribution for Genre                 Sci-Fi\n",
      "Male_Ratings(%)      13.6037\n",
      "Female_Ratings(%)    10.2145\n",
      "Name: 14, dtype: object\n",
      "Rating distribution for Genre                Romance\n",
      "Male_Ratings(%)        18.32\n",
      "Female_Ratings(%)    22.7601\n",
      "Name: 13, dtype: object\n"
     ]
    }
   ],
   "source": [
    "# Display the ratings distribution for both genders for Drama,Sci-Fi and Romance movie genres\n",
    "print(\"Rating distribution for \" +str(genre_combined_stats.iloc[7]))\n",
    "print(\"Rating distribution for \" +str(genre_combined_stats.iloc[14]))\n",
    "print(\"Rating distribution for \" +str(genre_combined_stats.iloc[13]))"
   ]
  },
  {
   "cell_type": "markdown",
   "metadata": {},
   "source": [
    "#### Conclusion:\n",
    "\n",
    "It can be observed from the dataframe that the hypothesis made above are not entirely correct and \n",
    "* Women watch more drama than men\n",
    "* Men watch more Sci-Fi than women\n",
    "* Women watch more Romance than men"
   ]
  }
 ],
 "metadata": {
  "kernelspec": {
   "display_name": "Python 3",
   "language": "python",
   "name": "python3"
  },
  "language_info": {
   "codemirror_mode": {
    "name": "ipython",
    "version": 3
   },
   "file_extension": ".py",
   "mimetype": "text/x-python",
   "name": "python",
   "nbconvert_exporter": "python",
   "pygments_lexer": "ipython3",
   "version": "3.6.10"
  }
 },
 "nbformat": 4,
 "nbformat_minor": 2
}
